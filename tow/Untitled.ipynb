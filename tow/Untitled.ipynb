{
 "cells": [
  {
   "cell_type": "code",
   "execution_count": 1,
   "metadata": {},
   "outputs": [
    {
     "name": "stdout",
     "output_type": "stream",
     "text": [
      "قائمة الكتب وأسعارها:\n",
      "\n",
      "- It's Only the Himalayas | السعر: Â£45.17\n",
      "- Full Moon over Noahâs ... | السعر: Â£49.43\n",
      "- See America: A Celebration ... | السعر: Â£48.87\n",
      "- Vagabonding: An Uncommon Guide ... | السعر: Â£36.94\n",
      "- Under the Tuscan Sun | السعر: Â£37.33\n",
      "- A Summer In Europe | السعر: Â£44.34\n",
      "- The Great Railway Bazaar | السعر: Â£30.54\n",
      "- A Year in Provence ... | السعر: Â£56.88\n",
      "- The Road to Little ... | السعر: Â£23.21\n",
      "- Neither Here nor There: ... | السعر: Â£38.95\n",
      "- 1,000 Places to See ... | السعر: Â£26.08\n"
     ]
    }
   ],
   "source": [
    "import requests\n",
    "from bs4 import BeautifulSoup\n",
    "url=\"http://books.toscrape.com/catalogue/category/books/travel_2/index.html\"\n",
    "# نحدد User-Agentليبدو طلبنا وكأنه من متصفح\n",
    "headers = {\n",
    "    'User-Agent': 'Mozilla/5.0 (Windows NT 10.0; Win64; x64) AppleWebKit/537.36 (KHTML, like Gecko) Chrome/58.0.3029.110 Safari/537.3'\n",
    "}\n",
    "\n",
    "# نرسل الطلب مع الرأس (headers)\n",
    "response = requests.get(url, headers=headers)\n",
    "\n",
    "if response.status_code == 200:\n",
    "    soup = BeautifulSoup(response.text, 'html.parser')\n",
    "\n",
    "    # *** هذه الأجزاء قد تحتاج إلى تعديل بناءً على بنية HTML للموقع الجديد ***\n",
    "    # ابحث عن العنصر الأب الذي يحتوي على معلومات كل كتاب\n",
    "    books = soup.find_all('article', class_='product_pod')\n",
    "\n",
    "    print(\"قائمة الكتب وأسعارها:\\n\")\n",
    "\n",
    "    for book in books:\n",
    "        # ابحث عن عنوان الكتاب داخل عنصر الكتاب\n",
    "        title = book.h3.a.text.strip()\n",
    "        # ابحث عن سعر الكتاب داخل عنصر الكتاب\n",
    "        price = book.find('p', class_='price_color').text\n",
    "        print(f\"- {title} | السعر: {price}\")\n",
    "else:\n",
    "    print(f\"فشل تحميل الصفحة. رمز الاستجابة: {response.status_code}\")\n",
    "    print(\"قد تحتاج إلى استخدام User-Agent مختلف أو طرق أخرى للتغلب على الحظر.\")\n",
    " "
   ]
  },
  {
   "cell_type": "code",
   "execution_count": null,
   "metadata": {},
   "outputs": [],
   "source": []
  }
 ],
 "metadata": {
  "kernelspec": {
   "display_name": "Python 3",
   "language": "python",
   "name": "python3"
  },
  "language_info": {
   "codemirror_mode": {
    "name": "ipython",
    "version": 3
   },
   "file_extension": ".py",
   "mimetype": "text/x-python",
   "name": "python",
   "nbconvert_exporter": "python",
   "pygments_lexer": "ipython3",
   "version": "3.8.5"
  }
 },
 "nbformat": 4,
 "nbformat_minor": 4
}
